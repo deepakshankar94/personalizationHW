{
 "cells": [
  {
   "cell_type": "markdown",
   "metadata": {},
   "source": [
    "### Question\n",
    "Write out two equations: (1) the equation for a the linear model that predicts y from X, and\n",
    "(2) the equation for computing the Residual Sum of Squares (RSS) for the linear model,\n",
    "given data, vector x, and parameters, vector β.\n",
    "* See equations 3.1 and 3.2 in the Elements of Statistical Learning book\n",
    "* Feel free to ignore the intercept term for this homework (e.g. β0)"
   ]
  },
  {
   "cell_type": "code",
   "execution_count": 12,
   "metadata": {},
   "outputs": [
    {
     "data": {
      "text/latex": [
       "\\begin{equation}\\label{eq1}\n",
       "    y =   \\beta_0 + \\sum_{j=1}^{p} X_j \\beta_j\n",
       "\\end{equation}"
      ],
      "text/plain": [
       "<IPython.core.display.Latex object>"
      ]
     },
     "metadata": {},
     "output_type": "display_data"
    }
   ],
   "source": [
    "\n",
    "%%latex\n",
    "\\begin{equation}\n",
    "    y =   \\beta_0 + \\sum_{j=1}^{p} X_j \\beta_j\n",
    "\\end{equation}"
   ]
  },
  {
   "cell_type": "code",
   "execution_count": 16,
   "metadata": {},
   "outputs": [
    {
     "data": {
      "text/latex": [
       "\\begin{equation}\n",
       "    RSS(\\beta) = \\sum_{i=1}^{N}( y_i - \\beta_0 - \\sum_{j=1}^{p} x_{ij} \\beta_j)\n",
       "\\end{equation}"
      ],
      "text/plain": [
       "<IPython.core.display.Latex object>"
      ]
     },
     "metadata": {},
     "output_type": "display_data"
    }
   ],
   "source": [
    "\n",
    "%%latex\n",
    "\\begin{equation}\n",
    "    RSS(\\beta) = \\sum_{i=1}^{N}( y_i - \\beta_0 - \\sum_{j=1}^{p} x_{ij} \\beta_j)\n",
    "\\end{equation}"
   ]
  },
  {
   "cell_type": "markdown",
   "metadata": {},
   "source": [
    "Translate these equations into into code in the form of two functions \n",
    "* The first function should compute the estimated value of y, y_hat, for particular values of x, and β. That is, there should be two arguments, one for the data and one for the linear function parameters.\n",
    "* The second function should compute the RSS for the first function"
   ]
  },
  {
   "cell_type": "markdown",
   "metadata": {},
   "source": [
    "### Ans:\n",
    "the funcions RSS and calculate_fx are defined later"
   ]
  },
  {
   "cell_type": "code",
   "execution_count": 17,
   "metadata": {},
   "outputs": [],
   "source": [
    "import pandas as pd\n",
    "import scipy as sp\n",
    "import numpy as np\n",
    "from scipy.optimize import minimize\n",
    "import time"
   ]
  },
  {
   "cell_type": "markdown",
   "metadata": {},
   "source": [
    "Read the wine data set"
   ]
  },
  {
   "cell_type": "code",
   "execution_count": 18,
   "metadata": {},
   "outputs": [],
   "source": [
    "df = pd.read_csv(\"./winequality-red.csv\",sep=\";\")"
   ]
  },
  {
   "cell_type": "markdown",
   "metadata": {},
   "source": [
    "Look through the data"
   ]
  },
  {
   "cell_type": "code",
   "execution_count": 19,
   "metadata": {},
   "outputs": [
    {
     "data": {
      "text/html": [
       "<div>\n",
       "<style scoped>\n",
       "    .dataframe tbody tr th:only-of-type {\n",
       "        vertical-align: middle;\n",
       "    }\n",
       "\n",
       "    .dataframe tbody tr th {\n",
       "        vertical-align: top;\n",
       "    }\n",
       "\n",
       "    .dataframe thead th {\n",
       "        text-align: right;\n",
       "    }\n",
       "</style>\n",
       "<table border=\"1\" class=\"dataframe\">\n",
       "  <thead>\n",
       "    <tr style=\"text-align: right;\">\n",
       "      <th></th>\n",
       "      <th>fixed acidity</th>\n",
       "      <th>volatile acidity</th>\n",
       "      <th>citric acid</th>\n",
       "      <th>residual sugar</th>\n",
       "      <th>chlorides</th>\n",
       "      <th>free sulfur dioxide</th>\n",
       "      <th>total sulfur dioxide</th>\n",
       "      <th>density</th>\n",
       "      <th>pH</th>\n",
       "      <th>sulphates</th>\n",
       "      <th>alcohol</th>\n",
       "      <th>quality</th>\n",
       "    </tr>\n",
       "  </thead>\n",
       "  <tbody>\n",
       "    <tr>\n",
       "      <th>0</th>\n",
       "      <td>7.4</td>\n",
       "      <td>0.70</td>\n",
       "      <td>0.00</td>\n",
       "      <td>1.9</td>\n",
       "      <td>0.076</td>\n",
       "      <td>11.0</td>\n",
       "      <td>34.0</td>\n",
       "      <td>0.9978</td>\n",
       "      <td>3.51</td>\n",
       "      <td>0.56</td>\n",
       "      <td>9.4</td>\n",
       "      <td>5</td>\n",
       "    </tr>\n",
       "    <tr>\n",
       "      <th>1</th>\n",
       "      <td>7.8</td>\n",
       "      <td>0.88</td>\n",
       "      <td>0.00</td>\n",
       "      <td>2.6</td>\n",
       "      <td>0.098</td>\n",
       "      <td>25.0</td>\n",
       "      <td>67.0</td>\n",
       "      <td>0.9968</td>\n",
       "      <td>3.20</td>\n",
       "      <td>0.68</td>\n",
       "      <td>9.8</td>\n",
       "      <td>5</td>\n",
       "    </tr>\n",
       "    <tr>\n",
       "      <th>2</th>\n",
       "      <td>7.8</td>\n",
       "      <td>0.76</td>\n",
       "      <td>0.04</td>\n",
       "      <td>2.3</td>\n",
       "      <td>0.092</td>\n",
       "      <td>15.0</td>\n",
       "      <td>54.0</td>\n",
       "      <td>0.9970</td>\n",
       "      <td>3.26</td>\n",
       "      <td>0.65</td>\n",
       "      <td>9.8</td>\n",
       "      <td>5</td>\n",
       "    </tr>\n",
       "    <tr>\n",
       "      <th>3</th>\n",
       "      <td>11.2</td>\n",
       "      <td>0.28</td>\n",
       "      <td>0.56</td>\n",
       "      <td>1.9</td>\n",
       "      <td>0.075</td>\n",
       "      <td>17.0</td>\n",
       "      <td>60.0</td>\n",
       "      <td>0.9980</td>\n",
       "      <td>3.16</td>\n",
       "      <td>0.58</td>\n",
       "      <td>9.8</td>\n",
       "      <td>6</td>\n",
       "    </tr>\n",
       "    <tr>\n",
       "      <th>4</th>\n",
       "      <td>7.4</td>\n",
       "      <td>0.70</td>\n",
       "      <td>0.00</td>\n",
       "      <td>1.9</td>\n",
       "      <td>0.076</td>\n",
       "      <td>11.0</td>\n",
       "      <td>34.0</td>\n",
       "      <td>0.9978</td>\n",
       "      <td>3.51</td>\n",
       "      <td>0.56</td>\n",
       "      <td>9.4</td>\n",
       "      <td>5</td>\n",
       "    </tr>\n",
       "  </tbody>\n",
       "</table>\n",
       "</div>"
      ],
      "text/plain": [
       "   fixed acidity  volatile acidity  citric acid  residual sugar  chlorides  \\\n",
       "0            7.4              0.70         0.00             1.9      0.076   \n",
       "1            7.8              0.88         0.00             2.6      0.098   \n",
       "2            7.8              0.76         0.04             2.3      0.092   \n",
       "3           11.2              0.28         0.56             1.9      0.075   \n",
       "4            7.4              0.70         0.00             1.9      0.076   \n",
       "\n",
       "   free sulfur dioxide  total sulfur dioxide  density    pH  sulphates  \\\n",
       "0                 11.0                  34.0   0.9978  3.51       0.56   \n",
       "1                 25.0                  67.0   0.9968  3.20       0.68   \n",
       "2                 15.0                  54.0   0.9970  3.26       0.65   \n",
       "3                 17.0                  60.0   0.9980  3.16       0.58   \n",
       "4                 11.0                  34.0   0.9978  3.51       0.56   \n",
       "\n",
       "   alcohol  quality  \n",
       "0      9.4        5  \n",
       "1      9.8        5  \n",
       "2      9.8        5  \n",
       "3      9.8        6  \n",
       "4      9.4        5  "
      ]
     },
     "execution_count": 19,
     "metadata": {},
     "output_type": "execute_result"
    }
   ],
   "source": [
    "df.head()"
   ]
  },
  {
   "cell_type": "code",
   "execution_count": 20,
   "metadata": {},
   "outputs": [
    {
     "data": {
      "text/html": [
       "<div>\n",
       "<style scoped>\n",
       "    .dataframe tbody tr th:only-of-type {\n",
       "        vertical-align: middle;\n",
       "    }\n",
       "\n",
       "    .dataframe tbody tr th {\n",
       "        vertical-align: top;\n",
       "    }\n",
       "\n",
       "    .dataframe thead th {\n",
       "        text-align: right;\n",
       "    }\n",
       "</style>\n",
       "<table border=\"1\" class=\"dataframe\">\n",
       "  <thead>\n",
       "    <tr style=\"text-align: right;\">\n",
       "      <th></th>\n",
       "      <th>fixed acidity</th>\n",
       "      <th>volatile acidity</th>\n",
       "      <th>citric acid</th>\n",
       "      <th>residual sugar</th>\n",
       "      <th>chlorides</th>\n",
       "      <th>free sulfur dioxide</th>\n",
       "      <th>total sulfur dioxide</th>\n",
       "      <th>density</th>\n",
       "      <th>pH</th>\n",
       "      <th>sulphates</th>\n",
       "      <th>alcohol</th>\n",
       "      <th>quality</th>\n",
       "    </tr>\n",
       "  </thead>\n",
       "  <tbody>\n",
       "    <tr>\n",
       "      <th>count</th>\n",
       "      <td>1599.000000</td>\n",
       "      <td>1599.000000</td>\n",
       "      <td>1599.000000</td>\n",
       "      <td>1599.000000</td>\n",
       "      <td>1599.000000</td>\n",
       "      <td>1599.000000</td>\n",
       "      <td>1599.000000</td>\n",
       "      <td>1599.000000</td>\n",
       "      <td>1599.000000</td>\n",
       "      <td>1599.000000</td>\n",
       "      <td>1599.000000</td>\n",
       "      <td>1599.000000</td>\n",
       "    </tr>\n",
       "    <tr>\n",
       "      <th>mean</th>\n",
       "      <td>8.319637</td>\n",
       "      <td>0.527821</td>\n",
       "      <td>0.270976</td>\n",
       "      <td>2.538806</td>\n",
       "      <td>0.087467</td>\n",
       "      <td>15.874922</td>\n",
       "      <td>46.467792</td>\n",
       "      <td>0.996747</td>\n",
       "      <td>3.311113</td>\n",
       "      <td>0.658149</td>\n",
       "      <td>10.422983</td>\n",
       "      <td>5.636023</td>\n",
       "    </tr>\n",
       "    <tr>\n",
       "      <th>std</th>\n",
       "      <td>1.741096</td>\n",
       "      <td>0.179060</td>\n",
       "      <td>0.194801</td>\n",
       "      <td>1.409928</td>\n",
       "      <td>0.047065</td>\n",
       "      <td>10.460157</td>\n",
       "      <td>32.895324</td>\n",
       "      <td>0.001887</td>\n",
       "      <td>0.154386</td>\n",
       "      <td>0.169507</td>\n",
       "      <td>1.065668</td>\n",
       "      <td>0.807569</td>\n",
       "    </tr>\n",
       "    <tr>\n",
       "      <th>min</th>\n",
       "      <td>4.600000</td>\n",
       "      <td>0.120000</td>\n",
       "      <td>0.000000</td>\n",
       "      <td>0.900000</td>\n",
       "      <td>0.012000</td>\n",
       "      <td>1.000000</td>\n",
       "      <td>6.000000</td>\n",
       "      <td>0.990070</td>\n",
       "      <td>2.740000</td>\n",
       "      <td>0.330000</td>\n",
       "      <td>8.400000</td>\n",
       "      <td>3.000000</td>\n",
       "    </tr>\n",
       "    <tr>\n",
       "      <th>25%</th>\n",
       "      <td>7.100000</td>\n",
       "      <td>0.390000</td>\n",
       "      <td>0.090000</td>\n",
       "      <td>1.900000</td>\n",
       "      <td>0.070000</td>\n",
       "      <td>7.000000</td>\n",
       "      <td>22.000000</td>\n",
       "      <td>0.995600</td>\n",
       "      <td>3.210000</td>\n",
       "      <td>0.550000</td>\n",
       "      <td>9.500000</td>\n",
       "      <td>5.000000</td>\n",
       "    </tr>\n",
       "    <tr>\n",
       "      <th>50%</th>\n",
       "      <td>7.900000</td>\n",
       "      <td>0.520000</td>\n",
       "      <td>0.260000</td>\n",
       "      <td>2.200000</td>\n",
       "      <td>0.079000</td>\n",
       "      <td>14.000000</td>\n",
       "      <td>38.000000</td>\n",
       "      <td>0.996750</td>\n",
       "      <td>3.310000</td>\n",
       "      <td>0.620000</td>\n",
       "      <td>10.200000</td>\n",
       "      <td>6.000000</td>\n",
       "    </tr>\n",
       "    <tr>\n",
       "      <th>75%</th>\n",
       "      <td>9.200000</td>\n",
       "      <td>0.640000</td>\n",
       "      <td>0.420000</td>\n",
       "      <td>2.600000</td>\n",
       "      <td>0.090000</td>\n",
       "      <td>21.000000</td>\n",
       "      <td>62.000000</td>\n",
       "      <td>0.997835</td>\n",
       "      <td>3.400000</td>\n",
       "      <td>0.730000</td>\n",
       "      <td>11.100000</td>\n",
       "      <td>6.000000</td>\n",
       "    </tr>\n",
       "    <tr>\n",
       "      <th>max</th>\n",
       "      <td>15.900000</td>\n",
       "      <td>1.580000</td>\n",
       "      <td>1.000000</td>\n",
       "      <td>15.500000</td>\n",
       "      <td>0.611000</td>\n",
       "      <td>72.000000</td>\n",
       "      <td>289.000000</td>\n",
       "      <td>1.003690</td>\n",
       "      <td>4.010000</td>\n",
       "      <td>2.000000</td>\n",
       "      <td>14.900000</td>\n",
       "      <td>8.000000</td>\n",
       "    </tr>\n",
       "  </tbody>\n",
       "</table>\n",
       "</div>"
      ],
      "text/plain": [
       "       fixed acidity  volatile acidity  citric acid  residual sugar  \\\n",
       "count    1599.000000       1599.000000  1599.000000     1599.000000   \n",
       "mean        8.319637          0.527821     0.270976        2.538806   \n",
       "std         1.741096          0.179060     0.194801        1.409928   \n",
       "min         4.600000          0.120000     0.000000        0.900000   \n",
       "25%         7.100000          0.390000     0.090000        1.900000   \n",
       "50%         7.900000          0.520000     0.260000        2.200000   \n",
       "75%         9.200000          0.640000     0.420000        2.600000   \n",
       "max        15.900000          1.580000     1.000000       15.500000   \n",
       "\n",
       "         chlorides  free sulfur dioxide  total sulfur dioxide      density  \\\n",
       "count  1599.000000          1599.000000           1599.000000  1599.000000   \n",
       "mean      0.087467            15.874922             46.467792     0.996747   \n",
       "std       0.047065            10.460157             32.895324     0.001887   \n",
       "min       0.012000             1.000000              6.000000     0.990070   \n",
       "25%       0.070000             7.000000             22.000000     0.995600   \n",
       "50%       0.079000            14.000000             38.000000     0.996750   \n",
       "75%       0.090000            21.000000             62.000000     0.997835   \n",
       "max       0.611000            72.000000            289.000000     1.003690   \n",
       "\n",
       "                pH    sulphates      alcohol      quality  \n",
       "count  1599.000000  1599.000000  1599.000000  1599.000000  \n",
       "mean      3.311113     0.658149    10.422983     5.636023  \n",
       "std       0.154386     0.169507     1.065668     0.807569  \n",
       "min       2.740000     0.330000     8.400000     3.000000  \n",
       "25%       3.210000     0.550000     9.500000     5.000000  \n",
       "50%       3.310000     0.620000    10.200000     6.000000  \n",
       "75%       3.400000     0.730000    11.100000     6.000000  \n",
       "max       4.010000     2.000000    14.900000     8.000000  "
      ]
     },
     "execution_count": 20,
     "metadata": {},
     "output_type": "execute_result"
    }
   ],
   "source": [
    "df.describe()"
   ]
  },
  {
   "cell_type": "code",
   "execution_count": 21,
   "metadata": {},
   "outputs": [
    {
     "name": "stdout",
     "output_type": "stream",
     "text": [
      "<class 'pandas.core.frame.DataFrame'>\n",
      "RangeIndex: 1599 entries, 0 to 1598\n",
      "Data columns (total 12 columns):\n",
      "fixed acidity           1599 non-null float64\n",
      "volatile acidity        1599 non-null float64\n",
      "citric acid             1599 non-null float64\n",
      "residual sugar          1599 non-null float64\n",
      "chlorides               1599 non-null float64\n",
      "free sulfur dioxide     1599 non-null float64\n",
      "total sulfur dioxide    1599 non-null float64\n",
      "density                 1599 non-null float64\n",
      "pH                      1599 non-null float64\n",
      "sulphates               1599 non-null float64\n",
      "alcohol                 1599 non-null float64\n",
      "quality                 1599 non-null int64\n",
      "dtypes: float64(11), int64(1)\n",
      "memory usage: 150.0 KB\n"
     ]
    }
   ],
   "source": [
    "df.info()"
   ]
  },
  {
   "cell_type": "markdown",
   "metadata": {},
   "source": [
    "#### intial conclusion\n",
    "As there seem to be no null values and also as all the data are already numeric there is no need to do any preprocessing to perform linear regression"
   ]
  },
  {
   "cell_type": "markdown",
   "metadata": {},
   "source": [
    "Next we split the data into train and test set"
   ]
  },
  {
   "cell_type": "code",
   "execution_count": 22,
   "metadata": {},
   "outputs": [],
   "source": [
    "X,y = df.iloc[:,:-1],df.iloc[:,-1]"
   ]
  },
  {
   "cell_type": "code",
   "execution_count": 23,
   "metadata": {},
   "outputs": [],
   "source": [
    "def train_test_split(X,y):\n",
    "    np.random.seed(5)\n",
    "    rows = np.random.rand(len(df)) < 0.8\n",
    "    train_X = X[rows]\n",
    "    test_X = X[~rows]  \n",
    "    train_y = y[rows]\n",
    "    test_y = y[~rows]\n",
    "    return train_X,train_y,test_X,test_y\n"
   ]
  },
  {
   "cell_type": "code",
   "execution_count": 24,
   "metadata": {},
   "outputs": [],
   "source": [
    "train_X,train_y,test_X,test_y = train_test_split(X,y)"
   ]
  },
  {
   "cell_type": "markdown",
   "metadata": {},
   "source": [
    "initialize the beta array"
   ]
  },
  {
   "cell_type": "code",
   "execution_count": 25,
   "metadata": {},
   "outputs": [],
   "source": [
    "np.random.seed(6)\n",
    "beta = np.random.rand(len(train_X.columns)+1)"
   ]
  },
  {
   "cell_type": "code",
   "execution_count": 26,
   "metadata": {},
   "outputs": [],
   "source": [
    "#function to calculate yhat\n",
    "def calculate_fx(x,beta):\n",
    "    f_x = beta[0]\n",
    "    for i in range(len(x)):\n",
    "        f_x = f_x + beta[i+1]*x[i]\n",
    "    return f_x\n"
   ]
  },
  {
   "cell_type": "code",
   "execution_count": 27,
   "metadata": {},
   "outputs": [],
   "source": [
    "#function to calculate RSS\n",
    "def RSS(beta,X,y):\n",
    "    rss = 0\n",
    "    for i in range(len(X)):\n",
    "        rss = rss + (y.iloc[i] - calculate_fx(X.iloc[i],beta))**2\n",
    "    return rss"
   ]
  },
  {
   "cell_type": "code",
   "execution_count": 28,
   "metadata": {},
   "outputs": [],
   "source": [
    "#train the predictor using minimize\n",
    "sol = minimize(RSS,beta,(train_X,train_y),'SLSQP')\n"
   ]
  },
  {
   "cell_type": "code",
   "execution_count": 31,
   "metadata": {},
   "outputs": [
    {
     "data": {
      "text/plain": [
       "535.6697948469422"
      ]
     },
     "execution_count": 31,
     "metadata": {},
     "output_type": "execute_result"
    }
   ],
   "source": [
    "#calculate the train rss\n",
    "RSS(sol.x,train_X,train_y)"
   ]
  },
  {
   "cell_type": "code",
   "execution_count": 32,
   "metadata": {},
   "outputs": [
    {
     "data": {
      "text/plain": [
       "134.04984779225526"
      ]
     },
     "execution_count": 32,
     "metadata": {},
     "output_type": "execute_result"
    }
   ],
   "source": [
    "# Calculate the test rss\n",
    "RSS(sol.x,test_X,test_y)"
   ]
  },
  {
   "cell_type": "code",
   "execution_count": 29,
   "metadata": {},
   "outputs": [
    {
     "data": {
      "text/plain": [
       "0.4242083790894154"
      ]
     },
     "execution_count": 29,
     "metadata": {},
     "output_type": "execute_result"
    }
   ],
   "source": [
    "# Calculate the test rss per row\n",
    "RSS(sol.x,test_X,test_y)/len(test_X)"
   ]
  },
  {
   "cell_type": "code",
   "execution_count": 30,
   "metadata": {},
   "outputs": [
    {
     "data": {
      "text/plain": [
       "0.4175134800054109"
      ]
     },
     "execution_count": 30,
     "metadata": {},
     "output_type": "execute_result"
    }
   ],
   "source": [
    "#calculate the train rss per row\n",
    "RSS(sol.x,train_X,train_y)/len(train_X)"
   ]
  },
  {
   "cell_type": "code",
   "execution_count": 15,
   "metadata": {},
   "outputs": [],
   "source": [
    "#max min normalization function\n",
    "def norm_min_max_df(df):\n",
    "    df_norm = (df-df.min())/(df.max()-df.min())\n",
    "    return df_norm"
   ]
  },
  {
   "cell_type": "code",
   "execution_count": 16,
   "metadata": {},
   "outputs": [],
   "source": [
    "#normalize the train data\n",
    "train_X_norm = norm_min_max_df(train_X)"
   ]
  },
  {
   "cell_type": "code",
   "execution_count": 200,
   "metadata": {},
   "outputs": [],
   "source": [
    "#minimize using the normalized data\n",
    "sol_norm = minimize(RSS,beta,(train_X_norm,train_y),'SLSQP')"
   ]
  },
  {
   "cell_type": "code",
   "execution_count": 201,
   "metadata": {},
   "outputs": [
    {
     "data": {
      "text/plain": [
       "array([ 5.71707369,  0.66862169, -1.10560747, -0.05422717,  0.69295629,\n",
       "       -1.21788643,  0.31816226, -1.01508182, -0.87283348, -0.22191063,\n",
       "        1.58857632,  1.45771155])"
      ]
     },
     "execution_count": 201,
     "metadata": {},
     "output_type": "execute_result"
    }
   ],
   "source": [
    "sol_norm.x"
   ]
  },
  {
   "cell_type": "code",
   "execution_count": 17,
   "metadata": {},
   "outputs": [],
   "source": [
    "#normalize the test data\n",
    "test_X_norm = norm_min_max_df(test_X)"
   ]
  },
  {
   "cell_type": "code",
   "execution_count": 229,
   "metadata": {},
   "outputs": [
    {
     "data": {
      "text/plain": [
       "535.6697947246332"
      ]
     },
     "execution_count": 229,
     "metadata": {},
     "output_type": "execute_result"
    }
   ],
   "source": [
    "#calculate the train RSS for train norm data\n",
    "RSS(sol_norm.x,train_X_norm,train_y)"
   ]
  },
  {
   "cell_type": "code",
   "execution_count": 204,
   "metadata": {},
   "outputs": [
    {
     "data": {
      "text/plain": [
       "141.5634852893919"
      ]
     },
     "execution_count": 204,
     "metadata": {},
     "output_type": "execute_result"
    }
   ],
   "source": [
    "#calculate the RSS for test norm data\n",
    "RSS(sol_norm.x,test_X_norm,test_y)"
   ]
  },
  {
   "cell_type": "code",
   "execution_count": 208,
   "metadata": {},
   "outputs": [
    {
     "name": "stdout",
     "output_type": "stream",
     "text": [
      "bias is 5.717073694147023\n",
      "normalized beta values of fixed acidity is 0.6686216890214317 \n",
      "normalized beta values of volatile acidity is -1.1056074746397424 \n",
      "normalized beta values of citric acid is -0.054227170904254975 \n",
      "normalized beta values of residual sugar is 0.6929562878678145 \n",
      "normalized beta values of chlorides is -1.2178864251688428 \n",
      "normalized beta values of free sulfur dioxide is 0.31816226368500433 \n",
      "normalized beta values of total sulfur dioxide is -1.0150818158427197 \n",
      "normalized beta values of density is -0.8728334781086817 \n",
      "normalized beta values of pH is -0.22191063328947874 \n",
      "normalized beta values of sulphates is 1.5885763157956587 \n",
      "normalized beta values of alcohol is 1.457711549158819 \n"
     ]
    }
   ],
   "source": [
    "print(\"bias is {}\".format(sol_norm.x[0]))\n",
    "for i in range(train_X.shape[1]):\n",
    "    print(\"normalized beta values of {} is {} \".format(df.columns[i],sol_norm.x[i+1]))"
   ]
  },
  {
   "cell_type": "markdown",
   "metadata": {},
   "source": [
    "### Question\n",
    "What are the qualitative results from your model? Which features seem to be most\n",
    "important? Do you think that the magnitude of the features in X may affect the\n",
    "results (for example, the average total sulfur dioxide across all wines is 46.47, but\n",
    "the average chlorides is only 0.087).\n",
    "\n",
    "### Ans : \n",
    "As the features were not normalized before, comparing the beta values of the model would not be a good idea. The reason is the the beta values are affected by the scale of the data. The higher the magnitude the lower the beta values. For e.g. if the beta values for a quantity were in Kilometer and for the same quantity if they were measured in millimeter than we would get different beta values as 1 unit change in kilometer would have much more difference in the beta values. \n",
    "\n",
    "Also just looking at the beta values even on normalized data might not be a definite measure of effect on the dependant variable as this is affected by the correlation between the independant variables as well.\n",
    "\n",
    "Just looking at the normalized beta values and assuming that there is no correlation between the variable we get , the top 5 most important features as alcohol,sulphates,chlorides,volatile acidity and total sulfur dioxide.\n",
    "\n",
    "The magnitude of the data doesn't have a huge effect in simple linear regression though as the beta values are able to change based on the scale of the input"
   ]
  },
  {
   "cell_type": "markdown",
   "metadata": {},
   "source": [
    "### Question\n",
    "How well does your model fit? You should be able to measure the goodness of fit,\n",
    "RSS, on both the training data and the test data, but only report the results on the\n",
    "test data. In Machine Learning we almost always only care about how well the\n",
    "model fits on data that has not been used to fit the model, because we need to use\n",
    "the model in the future, not the past. Therefore, we only report performance with\n",
    "holdout data, or test data\n",
    "\n",
    "### Ans : \n",
    "\n",
    "Our model seems to be a good fit as the RSS value per example on average we get is pretty low.\n"
   ]
  },
  {
   "cell_type": "markdown",
   "metadata": {},
   "source": [
    "### Varying the beta values"
   ]
  },
  {
   "cell_type": "code",
   "execution_count": 33,
   "metadata": {},
   "outputs": [],
   "source": [
    "beta_sol_list = []"
   ]
  },
  {
   "cell_type": "code",
   "execution_count": 251,
   "metadata": {},
   "outputs": [
    {
     "name": "stdout",
     "output_type": "stream",
     "text": [
      "running 0 set of beta\n",
      "test rss for 0 set of beta is 134.04975225744693\n",
      "running 1 set of beta\n",
      "test rss for 1 set of beta is 134.0473031013729\n",
      "running 2 set of beta\n",
      "test rss for 2 set of beta is 134.04771518629946\n",
      "running 3 set of beta\n",
      "test rss for 3 set of beta is 134.04846890993986\n",
      "running 4 set of beta\n",
      "test rss for 4 set of beta is 134.04873963225228\n"
     ]
    }
   ],
   "source": [
    "for i in range(5):\n",
    "    print(\"running {} set of beta\".format(i))\n",
    "    beta_new = np.random.uniform(low=0.2, high=50, size=(train_X.shape[1]+1,))\n",
    "    sol_beta = minimize(RSS,beta_new,(train_X,train_y),'SLSQP')\n",
    "    rss = RSS(sol_beta.x,test_X,test_y)\n",
    "    print(\"test rss for {} set of beta is {}\".format(i,rss))\n",
    "    beta_sol_list.append((beta_new,sol_beta,rss))\n",
    "    "
   ]
  },
  {
   "cell_type": "markdown",
   "metadata": {},
   "source": [
    "### Question\n",
    "\n",
    "Does the end result or RSS change if you try different initial values of β? What\n",
    "happens if you change the magnitude of the initial β?\n",
    "\n",
    "### Ans\n",
    "The end RSS might change as the different beta values may lead to the algorithm reaching different local minimas on the data set where they converge.\n",
    "\n",
    "Changing the magnitude will have a similar effect on the data set. As is observed from our experiment. changing the beta values from our initial observation converged to a different places of RSS of 134.047 compared to 141.56"
   ]
  },
  {
   "cell_type": "markdown",
   "metadata": {},
   "source": [
    "### Varying the solvers"
   ]
  },
  {
   "cell_type": "code",
   "execution_count": 177,
   "metadata": {},
   "outputs": [],
   "source": [
    "solvers = [\n",
    "    'BFGS' ,\n",
    "    'COBYLA',\n",
    "    'SLSQP'\n",
    "]"
   ]
  },
  {
   "cell_type": "code",
   "execution_count": 178,
   "metadata": {},
   "outputs": [],
   "source": [
    "sol_list_time = []"
   ]
  },
  {
   "cell_type": "code",
   "execution_count": 179,
   "metadata": {},
   "outputs": [
    {
     "name": "stdout",
     "output_type": "stream",
     "text": [
      "starting minimization using BFGS\n",
      "400.64189171791077\n",
      "starting minimization using COBYLA\n",
      "275.44445300102234\n",
      "starting minimization using SLSQP\n",
      "97.33751463890076\n"
     ]
    }
   ],
   "source": [
    "#minimize using different solvers\n",
    "for i in range(len(solvers)):\n",
    "    #minimize\n",
    "    print(\"starting minimization using {}\".format(solvers[i]))\n",
    "    start = time.time()\n",
    "    sol = minimize(RSS,beta,(train_X,train_y),solvers[i])\n",
    "    end = time.time()\n",
    "    print(end - start)\n",
    "    sol_list.append((solvers[i],end-start,sol))"
   ]
  },
  {
   "cell_type": "code",
   "execution_count": 218,
   "metadata": {},
   "outputs": [
    {
     "name": "stdout",
     "output_type": "stream",
     "text": [
      "the optimizer BFGS gave a rss of 134.04847983929395 in 400.64 seconds\n",
      "the optimizer COBYLA gave a rss of 179.22404520100423 in 275.44 seconds\n",
      "the optimizer SLSQP gave a rss of 134.04984779225526 in 97.34 seconds\n"
     ]
    }
   ],
   "source": [
    "\n",
    "for i in range(len(sol_list)):\n",
    "    rss  = RSS(sol_list[i][2].x,test_X,test_y)\n",
    "    print(\"the optimizer {} gave a rss of {} in {:0.2f} seconds\".format(sol_list[i][0],rss,sol_list[i][1]))"
   ]
  },
  {
   "cell_type": "markdown",
   "metadata": {},
   "source": [
    "### Question\n",
    "Does the choice of solver method change the end result or RSS?\n",
    "\n",
    "### Ans:\n",
    "The choice of the solver definetly affects the end result as different solvers have different assumptions and this affects the way optimize the problem. The solver might also affect the runtime of the problem as is clear from our tests.\n",
    "\n",
    "In our experiment with 3 solvers they converged to different location and the took different amounts of time"
   ]
  },
  {
   "cell_type": "markdown",
   "metadata": {},
   "source": [
    "## Regularization\n",
    "\n",
    "### Question \n",
    "Try adding in an L2 (aka Ridge) regularization penalty to your model above to create a new,\n",
    "regularized model. See equation 3.41 for guidance. You will need to choose a value of\n",
    "lambda, so start with something small, like 0.01. That is:\n",
    "* lambda = 0.01\n",
    "* y_hat_reg = y_hat + lambda * np.sum(beta**2)"
   ]
  },
  {
   "cell_type": "markdown",
   "metadata": {},
   "source": [
    "### Ans:\n",
    "\n",
    "The answer is coded below"
   ]
  },
  {
   "cell_type": "code",
   "execution_count": 21,
   "metadata": {},
   "outputs": [],
   "source": [
    "def ridge_optimization(beta,X,y,lambda_val):\n",
    "    rss  = RSS(beta,X,y)\n",
    "    optim =  rss + lambda_val * np.sum(beta**2)\n",
    "    return optim"
   ]
  },
  {
   "cell_type": "code",
   "execution_count": 222,
   "metadata": {},
   "outputs": [],
   "source": [
    "lambda_val = 0.01"
   ]
  },
  {
   "cell_type": "code",
   "execution_count": 224,
   "metadata": {},
   "outputs": [],
   "source": [
    "ridge_sol = minimize(ridge_optimization,beta,(train_X_norm,train_y,lambda_val),'SLSQP')"
   ]
  },
  {
   "cell_type": "code",
   "execution_count": 227,
   "metadata": {},
   "outputs": [
    {
     "data": {
      "text/plain": [
       "535.6701586037094"
      ]
     },
     "execution_count": 227,
     "metadata": {},
     "output_type": "execute_result"
    }
   ],
   "source": [
    "RSS(ridge_sol.x,train_X_norm,train_y)"
   ]
  },
  {
   "cell_type": "code",
   "execution_count": 228,
   "metadata": {},
   "outputs": [
    {
     "data": {
      "text/plain": [
       "141.51815519259"
      ]
     },
     "execution_count": 228,
     "metadata": {},
     "output_type": "execute_result"
    }
   ],
   "source": [
    "RSS(ridge_sol.x,test_X_norm,test_y)"
   ]
  },
  {
   "cell_type": "markdown",
   "metadata": {},
   "source": [
    "### Question\n",
    "How does RSS on the training data change? How does RSS on the test data change?\n",
    "\n",
    "### Ans :\n",
    "The RSS on the training data and the test data doesn't change much. This is mainly because the value of lambda that we took is very small"
   ]
  },
  {
   "cell_type": "code",
   "execution_count": 230,
   "metadata": {},
   "outputs": [],
   "source": [
    "#trying to tune lambda between 0 and 1\n",
    "lambda_arr = np.linspace(0,1,11)"
   ]
  },
  {
   "cell_type": "code",
   "execution_count": 231,
   "metadata": {},
   "outputs": [
    {
     "data": {
      "text/plain": [
       "array([0. , 0.1, 0.2, 0.3, 0.4, 0.5, 0.6, 0.7, 0.8, 0.9, 1. ])"
      ]
     },
     "execution_count": 231,
     "metadata": {},
     "output_type": "execute_result"
    }
   ],
   "source": [
    "lambda_arr"
   ]
  },
  {
   "cell_type": "code",
   "execution_count": 232,
   "metadata": {},
   "outputs": [],
   "source": [
    "lambda_sol_list = []"
   ]
  },
  {
   "cell_type": "code",
   "execution_count": 235,
   "metadata": {},
   "outputs": [
    {
     "name": "stdout",
     "output_type": "stream",
     "text": [
      "running for lambda 0.0\n",
      "test rss of 141.5634852893919 for lambda 0.0\n",
      "running for lambda 0.1\n",
      "test rss of 141.13816399445025 for lambda 0.1\n",
      "running for lambda 0.2\n",
      "test rss of 140.76755482747143 for lambda 0.2\n",
      "running for lambda 0.30000000000000004\n",
      "test rss of 140.44527986087334 for lambda 0.30000000000000004\n",
      "running for lambda 0.4\n",
      "test rss of 140.166328580241 for lambda 0.4\n",
      "running for lambda 0.5\n",
      "test rss of 139.926248025708 for lambda 0.5\n",
      "running for lambda 0.6000000000000001\n",
      "test rss of 139.72121667065397 for lambda 0.6000000000000001\n",
      "running for lambda 0.7000000000000001\n",
      "test rss of 139.547804145505 for lambda 0.7000000000000001\n",
      "running for lambda 0.8\n",
      "test rss of 139.4028841152773 for lambda 0.8\n",
      "running for lambda 0.9\n",
      "test rss of 139.2838467092026 for lambda 0.9\n",
      "running for lambda 1.0\n",
      "test rss of 139.18817864973707 for lambda 1.0\n"
     ]
    }
   ],
   "source": [
    "for i in range(len(lambda_arr)):\n",
    "    lambda_val = lambda_arr[i]\n",
    "    print(\"running for lambda {}\".format(lambda_val))\n",
    "    ridge_sol_lambda = minimize(ridge_optimization,beta,(train_X_norm,train_y,lambda_val),'SLSQP')\n",
    "    test_rss = RSS(ridge_sol_lambda.x,test_X_norm,test_y)\n",
    "    print(\"test rss of {} for lambda {}\".format(test_rss,lambda_val))\n",
    "    lambda_sol_list.append((lambda_val,ridge_sol_lambda,test_rss))"
   ]
  },
  {
   "cell_type": "code",
   "execution_count": 19,
   "metadata": {},
   "outputs": [],
   "source": [
    "#trying to tune lambda between 1 and 11\n",
    "lambda_arr = np.linspace(1,11,11)\n",
    "lambda_sol_list_1_11 = []"
   ]
  },
  {
   "cell_type": "code",
   "execution_count": 22,
   "metadata": {},
   "outputs": [
    {
     "name": "stdout",
     "output_type": "stream",
     "text": [
      "running for lambda 1.0\n",
      "test rss of 139.18817864973707 for lambda 1.0\n",
      "running for lambda 2.0\n",
      "test rss of 139.13904140294122 for lambda 2.0\n",
      "running for lambda 3.0\n",
      "test rss of 140.0072302590598 for lambda 3.0\n",
      "running for lambda 4.0\n",
      "test rss of 141.25529883006897 for lambda 4.0\n",
      "running for lambda 5.0\n",
      "test rss of 142.65035210402706 for lambda 5.0\n",
      "running for lambda 6.0\n",
      "test rss of 144.08419967845535 for lambda 6.0\n",
      "running for lambda 7.0\n",
      "test rss of 145.5049529399709 for lambda 7.0\n",
      "running for lambda 8.0\n",
      "test rss of 146.8887796490854 for lambda 8.0\n",
      "running for lambda 9.0\n",
      "test rss of 148.22427615317645 for lambda 9.0\n",
      "running for lambda 10.0\n",
      "test rss of 149.5089611159303 for lambda 10.0\n",
      "running for lambda 11.0\n",
      "test rss of 150.74034319575995 for lambda 11.0\n"
     ]
    }
   ],
   "source": [
    "for i in range(len(lambda_arr)):\n",
    "    lambda_val = lambda_arr[i]\n",
    "    print(\"running for lambda {}\".format(lambda_val))\n",
    "    ridge_sol_lambda = minimize(ridge_optimization,beta,(train_X_norm,train_y,lambda_val),'SLSQP')\n",
    "    test_rss = RSS(ridge_sol_lambda.x,test_X_norm,test_y)\n",
    "    print(\"test rss of {} for lambda {}\".format(test_rss,lambda_val))\n",
    "    lambda_sol_list_1_11.append((lambda_val,ridge_sol_lambda,test_rss))"
   ]
  },
  {
   "cell_type": "code",
   "execution_count": 23,
   "metadata": {},
   "outputs": [
    {
     "name": "stdout",
     "output_type": "stream",
     "text": [
      "running for lambda 1.0\n",
      "test rss of 139.18817864973707 for lambda 1.0\n",
      "running for lambda 1.1\n",
      "test rss of 139.1137929181558 for lambda 1.1\n",
      "running for lambda 1.2\n",
      "test rss of 139.0588192130597 for lambda 1.2\n",
      "running for lambda 1.3\n",
      "test rss of 139.02142758236263 for lambda 1.3\n",
      "running for lambda 1.4\n",
      "test rss of 139.00004271387738 for lambda 1.4\n",
      "running for lambda 1.5\n",
      "test rss of 138.99339225659574 for lambda 1.5\n",
      "running for lambda 1.6\n",
      "test rss of 139.00006285288785 for lambda 1.6\n",
      "running for lambda 1.7000000000000002\n",
      "test rss of 139.01874143485807 for lambda 1.7000000000000002\n",
      "running for lambda 1.8\n",
      "test rss of 139.048907680468 for lambda 1.8\n",
      "running for lambda 1.9\n",
      "test rss of 139.08925795264125 for lambda 1.9\n",
      "running for lambda 2.0\n",
      "test rss of 139.13904140294122 for lambda 2.0\n"
     ]
    }
   ],
   "source": [
    "#trying to tune lambda between 1 and 2\n",
    "lambda_arr = np.linspace(1,2,11)\n",
    "lambda_sol_list_1_2= []\n",
    "for i in range(len(lambda_arr)):\n",
    "    lambda_val = lambda_arr[i]\n",
    "    print(\"running for lambda {}\".format(lambda_val))\n",
    "    ridge_sol_lambda = minimize(ridge_optimization,beta,(train_X_norm,train_y,lambda_val),'SLSQP')\n",
    "    test_rss = RSS(ridge_sol_lambda.x,test_X_norm,test_y)\n",
    "    print(\"test rss of {} for lambda {}\".format(test_rss,lambda_val))\n",
    "    lambda_sol_list_1_2.append((lambda_val,ridge_sol_lambda,test_rss))"
   ]
  },
  {
   "cell_type": "markdown",
   "metadata": {},
   "source": []
  },
  {
   "cell_type": "markdown",
   "metadata": {},
   "source": [
    "### Question\n",
    "What happens if you try different values of lambda? Can you roughly tune lambda to get\n",
    "the best results on the test data?\n",
    "\n",
    "### Ans:\n",
    "Different values of lambda cause different test rss as the values of lambda has an effect on how high or low the calues of the beta vector can go. \n",
    "\n",
    "In our case we got the best test RSS ar lambda = 1.5"
   ]
  },
  {
   "cell_type": "code",
   "execution_count": 10,
   "metadata": {},
   "outputs": [],
   "source": [
    "def lasso_optimization(beta,X,y,lambda_val):\n",
    "    rss  = RSS(beta,X,y)\n",
    "    optim =  rss + lambda_val * np.sum(np.absolute(beta))\n",
    "    return optim"
   ]
  },
  {
   "cell_type": "code",
   "execution_count": 253,
   "metadata": {},
   "outputs": [],
   "source": [
    "#trying to tune lambda between 0 and 10\n",
    "lambda_arr = np.linspace(0,10,11)\n",
    "lasso_lambda_sol_list = []"
   ]
  },
  {
   "cell_type": "code",
   "execution_count": 254,
   "metadata": {},
   "outputs": [
    {
     "name": "stdout",
     "output_type": "stream",
     "text": [
      "running for lambda 0.0\n",
      "test rss of 141.5634852893919 for lambda 0.0\n",
      "running for lambda 1.0\n",
      "test rss of 139.74931077224946 for lambda 1.0\n",
      "running for lambda 2.0\n",
      "test rss of 138.17369422873608 for lambda 2.0\n",
      "running for lambda 3.0\n",
      "test rss of 137.1461399974861 for lambda 3.0\n",
      "running for lambda 4.0\n",
      "test rss of 136.6799777097008 for lambda 4.0\n",
      "running for lambda 5.0\n",
      "test rss of 136.7751208120813 for lambda 5.0\n",
      "running for lambda 6.0\n",
      "test rss of 137.9478110535365 for lambda 6.0\n",
      "running for lambda 7.0\n",
      "test rss of 138.81337907591174 for lambda 7.0\n",
      "running for lambda 8.0\n",
      "test rss of 139.26013296702493 for lambda 8.0\n",
      "running for lambda 9.0\n",
      "test rss of 139.8939864055285 for lambda 9.0\n",
      "running for lambda 10.0\n",
      "test rss of 140.536491253383 for lambda 10.0\n"
     ]
    }
   ],
   "source": [
    "for i in range(len(lambda_arr)):\n",
    "    lambda_val = lambda_arr[i]\n",
    "    print(\"running for lambda {}\".format(lambda_val))\n",
    "    lasso_sol_lambda = minimize(lasso_optimization,beta,(train_X_norm,train_y,lambda_val),'SLSQP')\n",
    "    test_rss = RSS(lasso_sol_lambda.x,test_X_norm,test_y)\n",
    "    print(\"test rss of {} for lambda {}\".format(test_rss,lambda_val))\n",
    "    lasso_lambda_sol_list.append((lambda_val,lasso_sol_lambda,test_rss))"
   ]
  },
  {
   "cell_type": "code",
   "execution_count": 18,
   "metadata": {},
   "outputs": [
    {
     "name": "stdout",
     "output_type": "stream",
     "text": [
      "running for lambda 4.0\n",
      "test rss of 136.6799777097008 for lambda 4.0\n",
      "running for lambda 4.1\n",
      "test rss of 136.6632497926084 for lambda 4.1\n",
      "running for lambda 4.2\n",
      "test rss of 136.6534196102417 for lambda 4.2\n",
      "running for lambda 4.3\n",
      "test rss of 136.65055951808654 for lambda 4.3\n",
      "running for lambda 4.4\n",
      "test rss of 136.6505957555164 for lambda 4.4\n",
      "running for lambda 4.5\n",
      "test rss of 136.65651435139122 for lambda 4.5\n",
      "running for lambda 4.6\n",
      "test rss of 136.66919588234802 for lambda 4.6\n",
      "running for lambda 4.7\n",
      "test rss of 136.3177149579503 for lambda 4.7\n",
      "running for lambda 4.8\n",
      "test rss of 136.71161906013145 for lambda 4.8\n",
      "running for lambda 4.9\n",
      "test rss of 136.74035458320213 for lambda 4.9\n",
      "running for lambda 5.0\n",
      "test rss of 136.7751208120813 for lambda 5.0\n"
     ]
    }
   ],
   "source": [
    "#trying to tune lambda between 4 and 5\n",
    "lambda_arr = np.linspace(4,5,11)\n",
    "lasso_lambda_sol_list_4_5 = []\n",
    "for i in range(len(lambda_arr)):\n",
    "    lambda_val = lambda_arr[i]\n",
    "    print(\"running for lambda {}\".format(lambda_val))\n",
    "    lasso_sol_lambda = minimize(lasso_optimization,beta,(train_X_norm,train_y,lambda_val),'SLSQP')\n",
    "    test_rss = RSS(lasso_sol_lambda.x,test_X_norm,test_y)\n",
    "    print(\"test rss of {} for lambda {}\".format(test_rss,lambda_val))\n",
    "    lasso_lambda_sol_list_4_5.append((lambda_val,lasso_sol_lambda,test_rss))"
   ]
  },
  {
   "cell_type": "markdown",
   "metadata": {},
   "source": [
    "### Question\n",
    "Now try using an L1 (aka Lasso) regularization penalty instead. See equation 3.51 for\n",
    "example. Report your findings on how RSS changes, and if you can roughly tune lambda."
   ]
  },
  {
   "cell_type": "markdown",
   "metadata": {},
   "source": [
    "### Ans:\n",
    "\n",
    "We received even lower values of RSS with Lasso. Roughly tuning lasso we get the best test RSS of 136.31 for a lambda value of 4.7"
   ]
  },
  {
   "cell_type": "markdown",
   "metadata": {},
   "source": [
    "### Question \n",
    "Again, do you think that the magnitude of the features in X may affect the results with\n",
    "regularization?\n",
    "\n",
    "### Ans:\n",
    "Yes the magnitude of features of X has a very clear affect on the result in this case as the magnitudes of features affect the values of the beta values as explained before. In simple linear regression this was not a problem as the beta values were not constrained and could adjust to fit the scale of the input. But in this case as the beta is constrained, the input need to be normalized so that the scale doesn't affect the result"
   ]
  }
 ],
 "metadata": {
  "kernelspec": {
   "display_name": "Python [conda root]",
   "language": "python",
   "name": "conda-root-py"
  },
  "language_info": {
   "codemirror_mode": {
    "name": "ipython",
    "version": 3
   },
   "file_extension": ".py",
   "mimetype": "text/x-python",
   "name": "python",
   "nbconvert_exporter": "python",
   "pygments_lexer": "ipython3",
   "version": "3.6.5"
  }
 },
 "nbformat": 4,
 "nbformat_minor": 2
}
